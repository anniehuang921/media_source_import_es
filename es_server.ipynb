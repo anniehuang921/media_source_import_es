{
 "cells": [
  {
   "cell_type": "markdown",
   "metadata": {},
   "source": [
    "## elasticsearch port\n",
    "elasticsearch http://elastic.nccu.asia/"
   ]
  },
  {
   "cell_type": "code",
   "execution_count": 1,
   "metadata": {
    "collapsed": true
   },
   "outputs": [],
   "source": [
    "import csv\n",
    "import os\n",
    "from elasticsearch import Elasticsearch\n",
    "from elasticsearch import helpers\n",
    "from elasticsearch.client import IndicesClient"
   ]
  },
  {
   "cell_type": "code",
   "execution_count": 2,
   "metadata": {
    "collapsed": true
   },
   "outputs": [],
   "source": [
    "# es = Elasticsearch([\"http://elastic.nccu.asia:80/\"])\n",
    "es=Elasticsearch([\"http://localhost:9200/\"])\n",
    "es_index=IndicesClient(es)"
   ]
  },
  {
   "cell_type": "code",
   "execution_count": 3,
   "metadata": {
    "collapsed": false
   },
   "outputs": [
    {
     "data": {
      "text/plain": [
       "<Elasticsearch([{'port': 9200, 'host': 'localhost', 'scheme': 'http'}])>"
      ]
     },
     "execution_count": 3,
     "metadata": {},
     "output_type": "execute_result"
    }
   ],
   "source": [
    "es"
   ]
  },
  {
   "cell_type": "markdown",
   "metadata": {},
   "source": [
    "## 建 index\n",
    "使用 smartcn 分詞器\n",
    "#### mapping \n",
    "參照此表 https://goo.gl/5iPf53\n",
    "\n",
    "<!-- \n",
    "es mapping intro https://www.elastic.co/guide/en/elasticsearch/reference/current/mapping.html \n",
    "date type https://goo.gl/fVsyNk\n",
    "number type https://www.elastic.co/guide/en/elasticsearch/reference/1.4/mapping-core-types.html\n",
    "array type https://www.elastic.co/guide/en/elasticsearch/reference/1.4/mapping-array-type.html\n",
    "geo type https://www.elastic.co/guide/en/elasticsearch/reference/1.4/mapping-geo-point-type.html\n",
    "-->"
   ]
  },
  {
   "cell_type": "code",
   "execution_count": 4,
   "metadata": {
    "collapsed": true
   },
   "outputs": [],
   "source": [
    "properties={\n",
    "'platform':{ 'type': 'string'  },\n",
    "'content':{ 'type': 'string'  },\n",
    "'uri':{ 'type': 'string'  },\n",
    "'time':{'type':   'date',\n",
    "        'format': \"strict_date_optional_time||epoch_millis\"  },\n",
    "'content_language':{ 'type': 'string'  },\n",
    "'comments_count':{ 'type': 'integer'  },\n",
    "'event':{ 'type': 'string'  },\n",
    "'favorite_count':{ 'type': 'integer'  },\n",
    "'from_parent_id':{ 'type': 'string'  },## 用 string 即可(原設計 array)，參考 https://goo.gl/xw89hR\n",
    "'media_id':{ 'type': 'string'  },\n",
    "'media_name':{ 'type': 'string'  },\n",
    "'media_like_count':{ 'type': 'integer'  },\n",
    "'from_user_category':{ 'type': 'string'  },\n",
    "'from_user_id':{ 'type': 'string'  },\n",
    "'from_user_like_count':{ 'type': 'integer'  },\n",
    "'from_user_language':{ 'type': 'string'  },\n",
    "'from_user_location':{ 'type': 'string'  },\n",
    "'from_user_name':{ 'type': 'string'  },\n",
    "'from_user_nick':{ 'type': 'string'  },\n",
    "'from_user_realname':{ 'type': 'string'  },\n",
    "'geo':{ 'type': 'geo_point'  },\n",
    "'twi_hashtags':{ 'type': 'string'  },# array\n",
    "'fb_hashtags':{ 'type': 'string'  },# array\n",
    "'like_count':{ 'type': 'integer'  },\n",
    "'post_type':{ 'type': 'string'  },\n",
    "'share_target_uri':{ 'type': 'string'  },# array\n",
    "'share_target_title':{ 'type': 'string'  },# array\n",
    "'shared_domain':{ 'type': 'string'  },\n",
    "'shared_initial_uri':{ 'type': 'string'  },\n",
    "'shared_title':{ 'type': 'string'  },# array\n",
    "'shared_uri':{ 'type': 'string'  },# array\n",
    "'shares_count':{ 'type': 'integer'  },\n",
    "'status_type':{ 'type': 'string'  },\n",
    "'story_tag':{ 'type': 'string'  },#\n",
    "'tags_id':{ 'type': 'string'  },#\n",
    "'tags_name':{ 'type': 'string'  },#\n",
    "'title':{ 'type': 'string'  },\n",
    "'domain':{'type':'string'},\n",
    "'update_time':{'type':   'date',\n",
    "               'format': \"strict_date_optional_time||epoch_millis\"  },\n",
    "\n",
    "                }"
   ]
  },
  {
   "cell_type": "code",
   "execution_count": 5,
   "metadata": {
    "collapsed": false,
    "scrolled": false
   },
   "outputs": [
    {
     "data": {
      "text/plain": [
       "{'error': {'index': 'platform',\n",
       "  'reason': 'already exists',\n",
       "  'root_cause': [{'index': 'platform',\n",
       "    'reason': 'already exists',\n",
       "    'type': 'index_already_exists_exception'}],\n",
       "  'type': 'index_already_exists_exception'},\n",
       " 'status': 400}"
      ]
     },
     "execution_count": 5,
     "metadata": {},
     "output_type": "execute_result"
    }
   ],
   "source": [
    "es.indices.create(\n",
    "    index=\"platform\",\n",
    "    body={\n",
    "      'settings': {\n",
    "        'number_of_shards': 5,\n",
    "        'number_of_replicas': 1,\n",
    "        'analysis': {\n",
    "          \"analyzer\":{\"default\":{\"type\": \"cjk\"}}\n",
    "          }\n",
    "        },\n",
    "      'mappings':{\n",
    "         'twitter':{           \n",
    "            'properties':properties\n",
    "            }   \n",
    "        }  \n",
    "      },\n",
    "    ignore=400\n",
    ")"
   ]
  },
  {
   "cell_type": "markdown",
   "metadata": {},
   "source": [
    "## 看到所有欄位 還有狀態"
   ]
  },
  {
   "cell_type": "code",
   "execution_count": 6,
   "metadata": {
    "collapsed": false
   },
   "outputs": [
    {
     "data": {
      "text/plain": [
       "{}"
      ]
     },
     "execution_count": 6,
     "metadata": {},
     "output_type": "execute_result"
    }
   ],
   "source": [
    "es_index.get_mapping(index=\"platform\",doc_type=\"twitter\")"
   ]
  },
  {
   "cell_type": "markdown",
   "metadata": {},
   "source": [
    "## 把 index 清掉"
   ]
  },
  {
   "cell_type": "code",
   "execution_count": 8,
   "metadata": {
    "collapsed": false
   },
   "outputs": [
    {
     "data": {
      "text/plain": [
       "{'acknowledged': True}"
      ]
     },
     "execution_count": 8,
     "metadata": {},
     "output_type": "execute_result"
    }
   ],
   "source": [
    "es.indices.delete(index=\"platform\",ignore=[400,404])"
   ]
  },
  {
   "cell_type": "code",
   "execution_count": null,
   "metadata": {
    "collapsed": true
   },
   "outputs": [],
   "source": []
  }
 ],
 "metadata": {
  "kernelspec": {
   "display_name": "Python 3",
   "language": "python",
   "name": "python3"
  },
  "language_info": {
   "codemirror_mode": {
    "name": "ipython",
    "version": 3
   },
   "file_extension": ".py",
   "mimetype": "text/x-python",
   "name": "python",
   "nbconvert_exporter": "python",
   "pygments_lexer": "ipython3",
   "version": "3.4.3"
  }
 },
 "nbformat": 4,
 "nbformat_minor": 0
}
